{
 "cells": [
  {
   "cell_type": "markdown",
   "metadata": {},
   "source": [
    "# Introduction to Javascript\n",
    "\n",
    "JavaScript is also known as LiveScript, Mocha, JScript, ECMAScript.\n",
    "\n",
    "- <span style=\"color:yellow\">***Mocha***</span> &rarr; Dev Name \n",
    "- <span style= \"color:yellow\">***LiveScript***</span> &rarr; when released\n",
    "\n",
    "- After sometime it was called as <span style=\"color:red\">**Javascript**</span>\n",
    "and when the internet explorer team developed it they called it as ***JScript***.\n",
    "\n",
    "- Finally they went to European Union Computer Manufacturers Association \\(a.k.a. **ECMA** \\) in 1995 and hence named it as <span style=\"color:red\" >**ECMAScript**</span>\n",
    "    - Then their are notablly revision of the language by ECMA.\n",
    "    - S-5 in 2009\n",
    "    - S-6 in 2017 \\[Lastest\\] \n",
    "- [Ecma website](https://www.ecma-international.org/)\n",
    "\n",
    "<span style=\"color:red\"> **NOTE: JavaScript doesn\\'t resembles with Java Language both are totally different language.** </span>\n"
   ]
  },
  {
   "cell_type": "code",
   "execution_count": null,
   "metadata": {
    "dotnet_interactive": {
     "language": "javascript"
    },
    "vscode": {
     "languageId": "dotnet-interactive.javascript"
    }
   },
   "outputs": [
    {
     "data": {
      "text/plain": [
       "40"
      ]
     },
     "metadata": {},
     "output_type": "display_data"
    }
   ],
   "source": [
    "// Basic syntax of JavaScript\n",
    "\n",
    "var x = 10;\n",
    "var y = 30;\n",
    "\n",
    "function add(arg1, arg2){\n",
    "    return arg1 + arg2;\n",
    "}\n",
    "\n",
    "console.log(add(x,y));"
   ]
  },
  {
   "cell_type": "markdown",
   "metadata": {},
   "source": [
    "Any browser application contains three main program that is \n",
    "- DOM Parser \\[Parser for HTML\\]\n",
    "- CSS Parser\n",
    "- JavaScript Engine\n",
    "    - FireFox &rarr; <span style='color:green'>**Spider Monkey**</span>\n",
    "    - Google &rarr; <span style = 'color:green'>**V8 Engine** \\[*JIT*\\]</span>\n",
    "    - Safari &rarr; <span style = 'color:green'>**Nitro**</span>\n",
    "\n",
    "When the DOM and CSS Parser combined form Rendering Engine"
   ]
  },
  {
   "cell_type": "markdown",
   "metadata": {},
   "source": [
    "### Objects in JavaScript"
   ]
  },
  {
   "cell_type": "code",
   "execution_count": null,
   "metadata": {
    "dotnet_interactive": {
     "language": "javascript"
    },
    "vscode": {
     "languageId": "dotnet-interactive.javascript"
    }
   },
   "outputs": [
    {
     "data": {
      "text/plain": [
       "object"
      ]
     },
     "metadata": {},
     "output_type": "display_data"
    },
    {
     "data": {
      "text/plain": [
       "string"
      ]
     },
     "metadata": {},
     "output_type": "display_data"
    },
    {
     "data": {
      "text/plain": [
       "number"
      ]
     },
     "metadata": {},
     "output_type": "display_data"
    },
    {
     "data": {
      "text/plain": [
       "string"
      ]
     },
     "metadata": {},
     "output_type": "display_data"
    },
    {
     "data": {
      "text/plain": [
       "Ashish Pradhan"
      ]
     },
     "metadata": {},
     "output_type": "display_data"
    },
    {
     "data": {
      "text/plain": [
       "23"
      ]
     },
     "metadata": {},
     "output_type": "display_data"
    },
    {
     "data": {
      "text/plain": [
       "Indian"
      ]
     },
     "metadata": {},
     "output_type": "display_data"
    }
   ],
   "source": [
    "var obj1 = {\n",
    "    name: \"Ashish Pradhan\",\n",
    "    age: 23,\n",
    "    nationality: \"Indian\"\n",
    "};\n",
    "console.log(typeof obj1);\n",
    "\n",
    "console.log(typeof obj1.name,\n",
    "            typeof obj1.age,\n",
    "            typeof obj1.nationality)\n",
    "\n",
    "console.log(obj1.name,\n",
    "            obj1.age,\n",
    "            obj1.nationality)"
   ]
  },
  {
   "cell_type": "markdown",
   "metadata": {},
   "source": [
    "<img title=\"Objects on Computer Screen\" alt=\"Alt text\" src=\"./Images/Objects.png\">\n",
    "\n",
    "Here in this image we have three objects displayed on the screen.\n",
    "\n",
    "Thus they posses different properties, which are:\n",
    "\n",
    "- Position\n",
    "- Dimension\n",
    "- Image Data\n",
    "\n",
    "So to represent the above things we will use obejcts in JavaScript."
   ]
  },
  {
   "cell_type": "code",
   "execution_count": null,
   "metadata": {
    "dotnet_interactive": {
     "language": "javascript"
    },
    "vscode": {
     "languageId": "dotnet-interactive.javascript"
    }
   },
   "outputs": [],
   "source": [
    "var obj1 = {\n",
    "    x: 0,\n",
    "    y: 0,\n",
    "    width: 200,\n",
    "    height:200,\n",
    "    imageData: \"JS-Logo\",\n",
    "}\n",
    "var obj2 = {\n",
    "    x: 350,\n",
    "    y: 0,\n",
    "    width: 150,\n",
    "    height:150,\n",
    "    imageData: \"Apple\",\n",
    "}\n",
    "var obj2 = {\n",
    "    x: 300,\n",
    "    y: 250,\n",
    "    width: 150,\n",
    "    height:220,\n",
    "    imageData: \"Eaten Apple\",\n",
    "}"
   ]
  },
  {
   "cell_type": "markdown",
   "metadata": {},
   "source": [
    "Objects are created using curly braces <span style=\"color:green\">**\"{ }\"**</span>\n",
    "\n",
    "- <span style = \"color:yellow\">**Object can also contain function as one of the attribute which is thus a method because it is defining a objects functionality**</span>\n",
    "- <span style = \"color:yellow\">**Objects can also contain objects inside them**</span>\n",
    "- <span style = \"color:red\">**Encapsulating objects within objects and methods in one object is called as hierarchy**</span>\n",
    "\n",
    "\n",
    "|Language Notations|Object Notations      |\n",
    "|------------------|----------------------|\n",
    "|Nouns, Adjectives |Properties            |\n",
    "|Verbs             |Functions             |\n",
    "|Hierarchy         |Objects within Objects|\n",
    "\n",
    "\n"
   ]
  },
  {
   "cell_type": "markdown",
   "metadata": {},
   "source": [
    "### API\n",
    "- API : These are the <span style=\"color:green\">***collections***</span> of <span style=\"color: yellow\">**Properties**</span> and <span style=\"color:yellow\">**Function**</span>.\n",
    "- We can have api inside api.\n",
    "- JIT compiler have their own api called as native api which are inbuilt into it.\n",
    "    - E.g. Window object have many funtions which are called as native of JavaScript native api which are of JIT compiler.\n",
    "\n",
    "<span style=\"color: red\">***Knowing about the api of a programing language is knowing about its syntax.***</span>"
   ]
  }
 ],
 "metadata": {
  "kernelspec": {
   "display_name": ".NET (C#)",
   "language": "C#",
   "name": ".net-csharp"
  },
  "language_info": {
   "file_extension": ".cs",
   "mimetype": "text/x-csharp",
   "name": "C#",
   "pygments_lexer": "csharp",
   "version": "9.0"
  },
  "orig_nbformat": 4
 },
 "nbformat": 4,
 "nbformat_minor": 2
}
